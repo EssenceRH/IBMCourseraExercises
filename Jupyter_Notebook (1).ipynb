{
  "metadata": {
    "kernelspec": {
      "name": "python",
      "display_name": "Pyolite",
      "language": "python"
    },
    "language_info": {
      "codemirror_mode": {
        "name": "python",
        "version": 3
      },
      "file_extension": ".py",
      "mimetype": "text/x-python",
      "name": "python",
      "nbconvert_exporter": "python",
      "pygments_lexer": "ipython3",
      "version": "3.8"
    }
  },
  "nbformat_minor": 4,
  "nbformat": 4,
  "cells": [
    {
      "cell_type": "markdown",
      "source": "<center>\n    <img src=\"https://s3-api.us-geo.objectstorage.softlayer.net/cf-courses-data/CognitiveClass/Logos/organization_logo/organization_logo.png\" width=\"300\" alt=\"cognitiveclass.ai logo\"  />\n</center>\n",
      "metadata": {}
    },
    {
      "cell_type": "markdown",
      "source": "# My Jupyter Notebook on IBM Watson Studio",
      "metadata": {
        "tags": []
      }
    },
    {
      "cell_type": "markdown",
      "source": "**Robert**\n<br>Analytics Manager",
      "metadata": {}
    },
    {
      "cell_type": "markdown",
      "source": "*I am interested in data science because of the way it is transforming industries in many sectors. I also enjoy some of its topic areas such as statistics, computer science and experimental design*",
      "metadata": {}
    },
    {
      "cell_type": "markdown",
      "source": "### The code below (Cell 5) prints the traditional \"Hello World!\" ",
      "metadata": {}
    },
    {
      "cell_type": "code",
      "source": "print(\"Hello World!\")",
      "metadata": {
        "trusted": true
      },
      "execution_count": 3,
      "outputs": [
        {
          "name": "stdout",
          "text": "Hello World!\n",
          "output_type": "stream"
        }
      ]
    },
    {
      "cell_type": "markdown",
      "source": "1. [I'm a link to the IBM Website](https://www.ibm.com/)\n2. ~~Use 2 tildes either side of text to create strikethrough~~\n3. > This is a Block Quote",
      "metadata": {}
    }
  ]
}